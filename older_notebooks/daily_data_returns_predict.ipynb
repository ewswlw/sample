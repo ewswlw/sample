{
 "cells": [
  {
   "cell_type": "code",
   "execution_count": 5,
   "metadata": {},
   "outputs": [],
   "source": [
    "import numpy as np\n",
    "import pandas as pd\n",
    "import datetime\n",
    "import plotly.express as px\n",
    "from xbbg import blp\n",
    "import os\n",
    "import quantstats as qs\n",
    "import warnings\n",
    "warnings.filterwarnings('ignore')\n",
    "from sklearn.model_selection import train_test_split\n",
    "from sklearn.ensemble import RandomForestClassifier\n",
    "from sklearn.metrics import accuracy_score, classification_report\n",
    "import logging\n",
    "\n",
    "# Import custom modules with an alias\n",
    "import bloomberg_data as bd\n",
    "import transformations as tr\n",
    "import visuals as vis\n",
    "\n",
    "\n"
   ]
  },
  {
   "cell_type": "code",
   "execution_count": 3,
   "metadata": {},
   "outputs": [
    {
     "ename": "NameError",
     "evalue": "name 'bd' is not defined",
     "output_type": "error",
     "traceback": [
      "\u001b[1;31m---------------------------------------------------------------------------\u001b[0m",
      "\u001b[1;31mNameError\u001b[0m                                 Traceback (most recent call last)",
      "Cell \u001b[1;32mIn[3], line 12\u001b[0m\n\u001b[0;32m      9\u001b[0m dataframes \u001b[38;5;241m=\u001b[39m []\n\u001b[0;32m     11\u001b[0m \u001b[38;5;28;01mfor\u001b[39;00m ticker, field, col_name \u001b[38;5;129;01min\u001b[39;00m \u001b[38;5;28mzip\u001b[39m(tickers, fields, column_names):\n\u001b[1;32m---> 12\u001b[0m     df \u001b[38;5;241m=\u001b[39m \u001b[43mbd\u001b[49m\u001b[38;5;241m.\u001b[39mget_single_ticker_data(ticker, field, start_date, end_date, freq\u001b[38;5;241m=\u001b[39mfrequency, column_names\u001b[38;5;241m=\u001b[39mcol_name)\n\u001b[0;32m     13\u001b[0m     dataframes\u001b[38;5;241m.\u001b[39mappend(df)\n\u001b[0;32m     14\u001b[0m     logging\u001b[38;5;241m.\u001b[39minfo(\u001b[38;5;124mf\u001b[39m\u001b[38;5;124m\"\u001b[39m\u001b[38;5;124mData for \u001b[39m\u001b[38;5;132;01m{\u001b[39;00mticker\u001b[38;5;132;01m}\u001b[39;00m\u001b[38;5;124m:\u001b[39m\u001b[38;5;124m\"\u001b[39m)\n",
      "\u001b[1;31mNameError\u001b[0m: name 'bd' is not defined"
     ]
    }
   ],
   "source": [
    "\n",
    "# Main data retrieval and merging process\n",
    "tickers = ['.MIDERCAD U Index', '.CADIG F Index', 'VIX Index', '.HYUSER U Index', '.IGUSER U Index','SPX INDEX']\n",
    "fields = [['PX_LAST'], ['PX_LAST'], ['PX_LAST'], ['PX_LAST'], ['PX_LAST'], ['PX_LAST']]\n",
    "start_date = '2000-01-01'\n",
    "end_date = '2025-12-31'\n",
    "column_names = [['cad_ig_er_index'], ['cad_ig_sprds'], ['vix'], ['us_hy_er_index'], ['us_ig_er_index'],['spx_index']]\n",
    "frequency = 'd'  # Single frequency for all tickers\n",
    "\n",
    "dataframes = []\n",
    "\n",
    "for ticker, field, col_name in zip(tickers, fields, column_names):\n",
    "    df = bd.get_single_ticker_data(ticker, field, start_date, end_date, freq=frequency, column_names=col_name)\n",
    "    dataframes.append(df)\n",
    "    logging.info(f\"Data for {ticker}:\")\n",
    "    logging.info(df.head())  # Print the first few rows of each dataframe\n",
    "\n",
    "# Merge all dataframes\n",
    "merged_data = bd.merge_dataframes(dataframes, method='outer')\n",
    "\n",
    "# Print the final merged data and its information\n",
    "logging.info(\"Merged data head:\")\n",
    "logging.info(merged_data.head())\n",
    "logging.info('----------------------------------------------------------------')\n",
    "logging.info('----------------------------------------------------------------')\n",
    "logging.info(merged_data.tail())\n",
    "logging.info(merged_data.info())\n",
    "\n",
    "# Rename the index to \"Date\" and reset it\n",
    "merged_data.index.name = 'Date'\n",
    "csv_data = merged_data.reset_index()\n",
    "\n",
    "# Save the dataframe to a CSV file\n",
    "csv_data.to_csv('Outputs/csv_data.csv', index=False)\n",
    "\n",
    "# Rename for further use\n",
    "data = merged_data"
   ]
  },
  {
   "cell_type": "code",
   "execution_count": null,
   "metadata": {},
   "outputs": [],
   "source": []
  }
 ],
 "metadata": {
  "kernelspec": {
   "display_name": "cottage",
   "language": "python",
   "name": "python3"
  },
  "language_info": {
   "codemirror_mode": {
    "name": "ipython",
    "version": 3
   },
   "file_extension": ".py",
   "mimetype": "text/x-python",
   "name": "python",
   "nbconvert_exporter": "python",
   "pygments_lexer": "ipython3",
   "version": "3.10.5"
  }
 },
 "nbformat": 4,
 "nbformat_minor": 2
}
