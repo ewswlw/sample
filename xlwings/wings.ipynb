{
 "cells": [
  {
   "cell_type": "code",
   "execution_count": null,
   "metadata": {},
   "outputs": [],
   "source": [
    "import yfinance as yf\n",
    "import pandas as pd\n",
    "import xlwings as xw\n",
    "\n",
    "# Fetch stock data from Yahoo Finance\n",
    "ticker = \"AAPL\"  # Apple Inc.\n",
    "start_date = \"2023-01-01\"\n",
    "end_date = \"2023-12-31\"\n",
    "\n",
    "stock_data = yf.download(ticker, start=start_date, end=end_date)\n",
    "\n",
    "# Reset index to make Date a column\n",
    "stock_data = stock_data.reset_index()\n",
    "\n",
    "# Display the DataFrame in Excel\n",
    "xw.view(stock_data)\n",
    "\n",
    "print(f\"Stock data for {ticker} displayed in Excel.\")\n",
    "print(\"Check your Excel application for the new workbook.\")\n",
    "\n",
    "# Created/Modified files during execution:\n",
    "print(\"\\nCreated/Modified files during execution:\")\n",
    "print(\"An Excel file has been created and opened. You can save it manually if needed.\")"
   ]
  },
  {
   "cell_type": "code",
   "execution_count": 1,
   "metadata": {},
   "outputs": [
    {
     "name": "stderr",
     "output_type": "stream",
     "text": [
      "[*********************100%%**********************]  1 of 1 completed\n"
     ]
    },
    {
     "name": "stdout",
     "output_type": "stream",
     "text": [
      "Stock data for AAPL has been saved to wing_test.xlsx\n",
      "\n",
      "Created/Modified files during execution:\n",
      "c:\\Users\\Eddy\\YTM Capital Dropbox\\Eddy Winiarz\\Trading\\COF\\Models\\Unfinished Models\\Eddy\\Python Projects\\gpts\\wing_test.xlsx\n"
     ]
    }
   ],
   "source": [
    "import yfinance as yf\n",
    "import pandas as pd\n",
    "import xlwings as xw\n",
    "import os\n",
    "\n",
    "# Fetch stock data from Yahoo Finance\n",
    "ticker = \"AAPL\"  # Apple Inc.\n",
    "start_date = \"2023-01-01\"\n",
    "end_date = \"2023-12-31\"\n",
    "\n",
    "stock_data = yf.download(ticker, start=start_date, end=end_date)\n",
    "\n",
    "# Reset index to make Date a column\n",
    "stock_data = stock_data.reset_index()\n",
    "\n",
    "# Define the Excel file name\n",
    "excel_file = \"wing_test.xlsx\"\n",
    "\n",
    "# Create a new Excel workbook\n",
    "wb = xw.Book()\n",
    "\n",
    "# Select the first sheet\n",
    "sheet = wb.sheets[0]\n",
    "\n",
    "# Write the DataFrame to the Excel sheet\n",
    "sheet.range('A1').value = stock_data\n",
    "\n",
    "# Format as table\n",
    "table_range = sheet.range('A1').expand('table')\n",
    "sheet.tables.add(table_range, name='StockData')\n",
    "\n",
    "# Autofit columns\n",
    "sheet.autofit()\n",
    "\n",
    "# Save the workbook\n",
    "wb.save(excel_file)\n",
    "\n",
    "# Close the workbook\n",
    "wb.close()\n",
    "\n",
    "print(f\"Stock data for {ticker} has been saved to {excel_file}\")\n",
    "\n",
    "# Get the full path of the created file\n",
    "full_path = os.path.abspath(excel_file)\n",
    "\n",
    "# Created/Modified files during execution:\n",
    "print(\"\\nCreated/Modified files during execution:\")\n",
    "print(full_path)"
   ]
  },
  {
   "cell_type": "code",
   "execution_count": 2,
   "metadata": {},
   "outputs": [
    {
     "name": "stderr",
     "output_type": "stream",
     "text": [
      "[*********************100%%**********************]  3 of 3 completed\n"
     ]
    },
    {
     "name": "stdout",
     "output_type": "stream",
     "text": [
      "Closing price data for AAPL, MSFT, GOOGL has been added to Sheet2 of wing_test.xlsx\n",
      "\n",
      "Modified file:\n",
      "wing_test.xlsx\n"
     ]
    }
   ],
   "source": [
    "import yfinance as yf\n",
    "import pandas as pd\n",
    "import xlwings as xw\n",
    "\n",
    "# Define the stocks and date range\n",
    "tickers = [\"AAPL\", \"MSFT\", \"GOOGL\"]  # Apple, Microsoft, and Alphabet\n",
    "start_date = \"2023-01-01\"\n",
    "end_date = \"2023-12-31\"\n",
    "\n",
    "# Fetch closing price data for the stocks\n",
    "closing_data = yf.download(tickers, start=start_date, end=end_date)['Close']\n",
    "\n",
    "# Reset index to make Date a column\n",
    "closing_data = closing_data.reset_index()\n",
    "\n",
    "# Open the existing Excel file\n",
    "excel_file = \"wing_test.xlsx\"\n",
    "wb = xw.Book(excel_file)\n",
    "\n",
    "# Select Sheet2 (create it if it doesn't exist)\n",
    "if 'Sheet2' not in [sheet.name for sheet in wb.sheets]:\n",
    "    wb.sheets.add('Sheet2')\n",
    "sheet = wb.sheets['Sheet2']\n",
    "\n",
    "# Clear any existing content in Sheet2\n",
    "sheet.clear_contents()\n",
    "\n",
    "# Write the DataFrame to Sheet2\n",
    "sheet.range('A1').value = closing_data\n",
    "\n",
    "# Format as table\n",
    "table_range = sheet.range('A1').expand('table')\n",
    "sheet.tables.add(table_range, name='ClosingPrices')\n",
    "\n",
    "# Autofit columns\n",
    "sheet.autofit()\n",
    "\n",
    "# Save the workbook\n",
    "wb.save()\n",
    "\n",
    "# Close the workbook\n",
    "wb.close()\n",
    "\n",
    "print(f\"Closing price data for {', '.join(tickers)} has been added to Sheet2 of {excel_file}\")\n",
    "\n",
    "# Created/Modified files during execution:\n",
    "print(\"\\nModified file:\")\n",
    "print(excel_file)"
   ]
  },
  {
   "cell_type": "code",
   "execution_count": 6,
   "metadata": {},
   "outputs": [
    {
     "name": "stderr",
     "output_type": "stream",
     "text": [
      "[*********************100%%**********************]  3 of 3 completed\n"
     ]
    },
    {
     "name": "stdout",
     "output_type": "stream",
     "text": [
      "Data saved to temporary file: wing_test_temp_20240921_180828.xlsx\n",
      "Could not update wing_test.xlsx. Data is saved in wing_test_temp_20240921_180828.xlsx\n",
      "You can now open and edit the Excel file.\n",
      "To read the data back from Excel, use the read_from_excel() function.\n",
      "To update Excel with new DataFrame data, use the update_excel(df) function.\n"
     ]
    }
   ],
   "source": [
    "import pandas as pd\n",
    "import xlwings as xw\n",
    "import yfinance as yf\n",
    "import os\n",
    "from datetime import datetime\n",
    "\n",
    "# Define the stocks and date range\n",
    "tickers = [\"AAPL\", \"MSFT\", \"GOOGL\"]  # Apple, Microsoft, and Alphabet\n",
    "start_date = \"2023-01-01\"\n",
    "end_date = \"2023-12-31\"\n",
    "\n",
    "# Fetch closing price data for the stocks\n",
    "closing_data = yf.download(tickers, start=start_date, end=end_date)['Close'].reset_index()\n",
    "\n",
    "# Excel file name\n",
    "excel_file = \"wing_test.xlsx\"\n",
    "\n",
    "def update_excel(df):\n",
    "    timestamp = datetime.now().strftime(\"%Y%m%d_%H%M%S\")\n",
    "    temp_file = f\"wing_test_temp_{timestamp}.xlsx\"\n",
    "    \n",
    "    with xw.App(visible=False) as app:\n",
    "        try:\n",
    "            wb = app.books.add()\n",
    "            sheet = wb.sheets['Sheet1']\n",
    "            sheet.clear_contents()\n",
    "            sheet.range('A1').value = df\n",
    "            table_range = sheet.range('A1').expand('table')\n",
    "            sheet.tables.add(table_range, name='StockData')\n",
    "            sheet.autofit()\n",
    "            wb.save(temp_file)\n",
    "            print(f\"Data saved to temporary file: {temp_file}\")\n",
    "            \n",
    "            # Try to replace the original file\n",
    "            try:\n",
    "                if os.path.exists(excel_file):\n",
    "                    os.remove(excel_file)\n",
    "                os.rename(temp_file, excel_file)\n",
    "                print(f\"Data updated in {excel_file}\")\n",
    "            except PermissionError:\n",
    "                print(f\"Could not update {excel_file}. Data is saved in {temp_file}\")\n",
    "        except Exception as e:\n",
    "            print(f\"An error occurred: {e}\")\n",
    "            print(f\"Data might be saved in {temp_file}\")\n",
    "\n",
    "def read_from_excel():\n",
    "    try:\n",
    "        with xw.App(visible=False) as app:\n",
    "            wb = app.books.open(excel_file)\n",
    "            sheet = wb.sheets['Sheet1']\n",
    "            data = sheet.range('A1').expand('table').options(pd.DataFrame, header=1, index=False).value\n",
    "        return data\n",
    "    except Exception as e:\n",
    "        print(f\"Error reading from Excel: {e}\")\n",
    "        return None\n",
    "\n",
    "# Initial update to Excel\n",
    "update_excel(closing_data)\n",
    "\n",
    "print(\"You can now open and edit the Excel file.\")\n",
    "print(\"To read the data back from Excel, use the read_from_excel() function.\")\n",
    "print(\"To update Excel with new DataFrame data, use the update_excel(df) function.\")\n",
    "\n",
    "# Example usage:\n",
    "# new_data = read_from_excel()\n",
    "# if new_data is not None:\n",
    "#     update_excel(new_data)"
   ]
  },
  {
   "cell_type": "code",
   "execution_count": null,
   "metadata": {},
   "outputs": [],
   "source": []
  }
 ],
 "metadata": {
  "kernelspec": {
   "display_name": "tajana--DE5tNwZ-py3.12",
   "language": "python",
   "name": "python3"
  },
  "language_info": {
   "codemirror_mode": {
    "name": "ipython",
    "version": 3
   },
   "file_extension": ".py",
   "mimetype": "text/x-python",
   "name": "python",
   "nbconvert_exporter": "python",
   "pygments_lexer": "ipython3",
   "version": "3.12.4"
  }
 },
 "nbformat": 4,
 "nbformat_minor": 2
}
